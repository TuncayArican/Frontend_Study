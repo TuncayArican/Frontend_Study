{
 "cells": [
  {
   "cell_type": "markdown",
   "metadata": {},
   "source": [
    "Problem Statement\n",
    "Write a function that takes an array of characters and reverses the words order.\n",
    "Please note that, single word should not be reversed!"
   ]
  },
  {
   "cell_type": "code",
   "execution_count": 22,
   "metadata": {},
   "outputs": [
    {
     "data": {
      "text/plain": [
       "'ila yacnut halludba'"
      ]
     },
     "execution_count": 22,
     "metadata": {},
     "output_type": "execute_result"
    }
   ],
   "source": [
    "def Reverse_word(word):\n",
    "    string1=\"\"\n",
    "    word=word.split()\n",
    "    for i in range(len(word)):\n",
    "        word2=list(reversed(word[i]))\n",
    "        word2=\"\".join(word2)\n",
    "        string1+=word2+\" \"\n",
    "    return string1.rstrip()\n",
    "Reverse_word(\"ali tuncay abdullah\")"
   ]
  },
  {
   "cell_type": "code",
   "execution_count": 21,
   "metadata": {},
   "outputs": [
    {
     "data": {
      "text/plain": [
       "['yasar', 'mehmet', 'ali']"
      ]
     },
     "execution_count": 21,
     "metadata": {},
     "output_type": "execute_result"
    }
   ],
   "source": [
    "def reverselist(list1):\n",
    "    list2=[]\n",
    "    if len(list1)==1:\n",
    "        return list1\n",
    "    if len (list1) > 1:\n",
    "        for i in range(len(list1)-1,-1,-1):\n",
    "            list2.append(list1[i])\n",
    "        return(list2)\n",
    "list3=[\"ali\",\"mehmet\",\"yasar\"] \n",
    "reverselist(list3)        "
   ]
  },
  {
   "cell_type": "code",
   "execution_count": null,
   "metadata": {},
   "outputs": [],
   "source": []
  }
 ],
 "metadata": {
  "interpreter": {
   "hash": "e4b87e42e9796bb671948d009bb47f841d640de0121be38bd468277473e6c4ed"
  },
  "kernelspec": {
   "display_name": "Python 3.10.1 64-bit",
   "language": "python",
   "name": "python3"
  },
  "language_info": {
   "codemirror_mode": {
    "name": "ipython",
    "version": 3
   },
   "file_extension": ".py",
   "mimetype": "text/x-python",
   "name": "python",
   "nbconvert_exporter": "python",
   "pygments_lexer": "ipython3",
   "version": "3.10.1"
  },
  "orig_nbformat": 4
 },
 "nbformat": 4,
 "nbformat_minor": 2
}
